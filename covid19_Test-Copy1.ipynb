{
 "cells": [
  {
   "cell_type": "markdown",
   "metadata": {},
   "source": [
    "# COVID19 SELF TEST"
   ]
  },
  {
   "cell_type": "code",
   "execution_count": 1,
   "metadata": {},
   "outputs": [
    {
     "name": "stdout",
     "output_type": "stream",
     "text": [
      "Please take  some time to self assess yourself to check if you are infected with the covid19 virus or not, by answering Yes/No \n",
      "to these questions shortly. Remember early detection is crucial for recovery. Thank you.\n"
     ]
    }
   ],
   "source": [
    "print(\"Please take  some time to self assess yourself to check if you are infected with the covid19 virus or not, \\n by answering Yes/No to these questions shortly. Remember early detection is crucial for recovery. Thank you.\")"
   ]
  },
  {
   "cell_type": "code",
   "execution_count": null,
   "metadata": {},
   "outputs": [
    {
     "name": "stdout",
     "output_type": "stream",
     "text": [
      "Are you experiencing fever of late? \n",
      "a. Yes\n",
      "b. No\n"
     ]
    }
   ],
   "source": [
    "print(\"Are you experiencing fever of late? \")\n",
    "print(\"a. Yes\")\n",
    "print(\"b. No\")\n",
    "\n",
    "Answer_1 = input(\"Answer : \")\n",
    "if Answer_1 == 'Yes' or Answer_1== 'YES' or Answer_1=='yes' or Answer_1== 'No' or Answer_1=='NO' or Answer_1== 'no':\n",
    "    print('')\n",
    "else:\n",
    "    print(\"Please enter Yes or No.\")\n",
    "\n",
    "while Answer_1 not in ('Yes','YES','yes','No','NO','no'): \n",
    "    Answer_1 = input(\"Answer : \")\n",
    "    if Answer_1 == 'Yes' or Answer_1== 'YES' or Answer_1=='yes' or Answer_1== 'No' or Answer_1=='NO' or Answer_1== 'no':\n",
    "        print('')\n",
    "    else:\n",
    "        print(\"Please enter Yes or No.\")\n"
   ]
  },
  {
   "cell_type": "code",
   "execution_count": null,
   "metadata": {},
   "outputs": [],
   "source": [
    "print(\"Are you experiencing fatigue regularly? \")\n",
    "print(\"a. Yes\")\n",
    "print(\"b. No\")\n",
    "\n",
    "Answer_2 = input(\"Answer : \")\n",
    "if Answer_2 == 'Yes' or Answer_2== 'YES' or Answer_2=='yes' or Answer_2== 'No' or Answer_2=='NO' or Answer_2== 'no':\n",
    "    print('')\n",
    "else:\n",
    "    print(\"Please enter Yes or No.\")\n",
    "    \n",
    "\n",
    "while Answer_2 not in ('Yes','YES','yes','No','NO','no'):\n",
    "    \n",
    "    Answer_2 = input(\"Answer : \")\n",
    "    if Answer_2 == 'Yes' or Answer_2== 'YES' or Answer_2=='yes' or Answer_2== 'NO' or Answer_2=='NO' or Answer_2== 'no':\n",
    "        print('')\n",
    "    else:\n",
    "        print(\"Please enter Yes or No.\")\n"
   ]
  },
  {
   "cell_type": "code",
   "execution_count": null,
   "metadata": {},
   "outputs": [],
   "source": [
    "print(\"Do you have headache? \")\n",
    "print(\"a. Yes\")\n",
    "print(\"b. No\")\n",
    "\n",
    "Answer_3 = input(\"Answer : \")\n",
    "if Answer_3 == 'Yes' or Answer_3== 'YES' or Answer_3=='yes' or Answer_3== 'No' or Answer_3=='NO' or Answer_3== 'no':\n",
    "    print('')\n",
    "else:\n",
    "    print(\"Please enter Yes or No.\")\n",
    "    \n",
    "\n",
    "while Answer_3 not in ('Yes','YES','yes','No','NO','no'):\n",
    "    \n",
    "    Answer_3 = input(\"Answer : \")\n",
    "    if Answer_3 == 'Yes' or Answer_3== 'YES' or Answer_3=='yes' or Answer_3== 'No' or Answer_3=='NO' or Answer_3== 'no':\n",
    "        print('')\n",
    "    else:\n",
    "        print(\"Please enter Yes or No.\")\n"
   ]
  },
  {
   "cell_type": "code",
   "execution_count": null,
   "metadata": {},
   "outputs": [],
   "source": [
    "print(\"Do you have sorethroat? \")\n",
    "print(\"a. Yes\")\n",
    "print(\"b. No\")\n",
    "\n",
    "Answer_4 = input(\"Answer : \")\n",
    "if Answer_4 == 'Yes' or Answer_4== 'YES' or Answer_4=='yes' or Answer_4== 'No' or Answer_4=='NO' or Answer_4== 'no':\n",
    "    print('')\n",
    "else:\n",
    "    print(\"Please enter Yes or No.\")\n",
    "    \n",
    "\n",
    "while Answer_4 not in ('Yes','YES','yes','No','NO','no'):\n",
    "    \n",
    "    Answer_4 = input(\"Answer : \")\n",
    "    if Answer_4 == 'Yes' or Answer_4== 'YES' or Answer_4=='yes' or Answer_4== 'No' or Answer_4=='NO' or Answer_4== 'no':\n",
    "        print('')\n",
    "    else:\n",
    "        print(\"Please enter Yes or No.\")"
   ]
  },
  {
   "cell_type": "code",
   "execution_count": null,
   "metadata": {},
   "outputs": [],
   "source": [
    "print(\"Do you have difficulty in breathing? \")\n",
    "print(\"a. Yes\")\n",
    "print(\"b. No\")\n",
    "\n",
    "Answer_5 = input(\"Answer : \")\n",
    "if Answer_5 == 'Yes' or Answer_5== 'YES' or Answer_5=='yes' or Answer_5== 'No' or Answer_5=='NO' or Answer_5== 'no':\n",
    "    print('')\n",
    "else:\n",
    "    print(\"Please enter Yes or No.\")\n",
    "    \n",
    "\n",
    "while Answer_5 not in ('Yes','YES','yes','No','NO','no'):\n",
    "    \n",
    "    Answer_5 = input(\"Answer : \")\n",
    "    if Answer_5 == 'Yes' or Answer_5== 'YES' or Answer_5=='yes' or Answer_5== 'No' or Answer_5=='NO' or Answer_5== 'no':\n",
    "        print('')\n",
    "    else:\n",
    "        print(\"Please enter Yes or No.\")"
   ]
  },
  {
   "cell_type": "code",
   "execution_count": null,
   "metadata": {},
   "outputs": [],
   "source": [
    "print(\"Do you have runny nose? \")\n",
    "print(\"a. Yes\")\n",
    "print(\"b. No\")\n",
    "\n",
    "Answer_6 = input(\"Answer : \")\n",
    "if Answer_6 == 'Yes' or Answer_6== 'YES' or Answer_6=='yes' or Answer_6== 'No' or Answer_6=='NO' or Answer_6== 'no':\n",
    "    print('')\n",
    "else:\n",
    "    print(\"Please enter Yes or No.\")\n",
    "    \n",
    "\n",
    "while Answer_6 not in ('Yes','YES','yes','No','NO','no'):\n",
    "    \n",
    "    Answer_6 = input(\"Answer : \")\n",
    "    if Answer_6 == 'Yes' or Answer_6== 'YES' or Answer_6=='yes' or Answer_6== 'No' or Answer_6=='NO' or Answer_6== 'no':\n",
    "        print('')\n",
    "    else:\n",
    "        print(\"Please enter Yes or No.\")"
   ]
  },
  {
   "cell_type": "code",
   "execution_count": null,
   "metadata": {},
   "outputs": [],
   "source": [
    "print(\"Do you have diarrhoea? \")\n",
    "print(\"a. Yes\")\n",
    "print(\"b. No\")\n",
    "\n",
    "Answer_7 = input(\"Answer : \")\n",
    "if Answer_7 == 'Yes' or Answer_7== 'YES' or Answer_7=='yes' or Answer_7== 'No' or Answer_7=='NO' or Answer_7== 'no':\n",
    "    print('')\n",
    "else:\n",
    "    print(\"Please enter Yes or No.\")\n",
    "    \n",
    "\n",
    "while Answer_7 not in ('Yes','YES','yes','No','NO','no'):\n",
    "    \n",
    "    Answer_7 = input(\"Answer : \")\n",
    "    if Answer_7 == 'Yes' or Answer_7== 'YES' or Answer_7=='yes' or Answer_7== 'No' or Answer_7=='NO' or Answer_7== 'no':\n",
    "        print('')\n",
    "    else:\n",
    "        print(\"Please enter Yes or No.\")"
   ]
  },
  {
   "cell_type": "code",
   "execution_count": null,
   "metadata": {},
   "outputs": [],
   "source": [
    "if Answer_1 not in ('No','NO','no') or Answer_2 not in ('No','NO','no')or Answer_3 not in ('No','NO','no')or Answer_4 not in ('No','NO','no')or Answer_5 not in ('No','NO','no')or Answer_6 not in ('No','NO','no')or Answer_7 not in ('No','NO','no'):\n",
    "    print('You have a high risk of having the Covid 19 virus. Please report to the nearest medical facility for sample testing. Remember that early detection is necessary for recovery. Thank you.')\n",
    "else:\n",
    "    print('You have low risk of having the Covid 19 virus. You are advised to stay at home regularly, sanitize your hands regularly and observe good social distancing. Should you develop any of the above mentioned symptons in the future, please report to the nearest medical facility for sample testing. Thank you.')"
   ]
  },
  {
   "cell_type": "code",
   "execution_count": null,
   "metadata": {},
   "outputs": [],
   "source": []
  }
 ],
 "metadata": {
  "kernelspec": {
   "display_name": "Python 3",
   "language": "python",
   "name": "python3"
  },
  "language_info": {
   "codemirror_mode": {
    "name": "ipython",
    "version": 3
   },
   "file_extension": ".py",
   "mimetype": "text/x-python",
   "name": "python",
   "nbconvert_exporter": "python",
   "pygments_lexer": "ipython3",
   "version": "3.7.6"
  }
 },
 "nbformat": 4,
 "nbformat_minor": 4
}
